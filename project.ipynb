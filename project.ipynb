{
 "cells": [
  {
   "cell_type": "code",
   "execution_count": 2,
   "id": "d154bde5",
   "metadata": {},
   "outputs": [],
   "source": [
    "import pandas as pd"
   ]
  },
  {
   "cell_type": "code",
   "execution_count": 7,
   "id": "6624b558",
   "metadata": {},
   "outputs": [],
   "source": [
    "import matplotlib"
   ]
  },
  {
   "cell_type": "code",
   "execution_count": null,
   "id": "6bccc36b",
   "metadata": {},
   "outputs": [],
   "source": [
    "df = pd.read_csv(\"online_bookstore.csv\") "
   ]
  },
  {
   "cell_type": "code",
   "execution_count": 9,
   "id": "214a10ef",
   "metadata": {},
   "outputs": [],
   "source": [
    "\n",
    "# 1. Top-rated books by genre\n",
    "top_rated_books = df.loc[df.groupby('genre')['rating'].idxmax()]\n",
    "top_rated_books.to_csv(\"top_rated_books.csv\", index=False)\n"
   ]
  }
 ],
 "metadata": {
  "kernelspec": {
   "display_name": "Python 3",
   "language": "python",
   "name": "python3"
  },
  "language_info": {
   "codemirror_mode": {
    "name": "ipython",
    "version": 3
   },
   "file_extension": ".py",
   "mimetype": "text/x-python",
   "name": "python",
   "nbconvert_exporter": "python",
   "pygments_lexer": "ipython3",
   "version": "3.13.3"
  }
 },
 "nbformat": 4,
 "nbformat_minor": 5
}
